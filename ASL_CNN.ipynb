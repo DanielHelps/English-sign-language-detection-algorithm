{
 "cells": [
  {
   "cell_type": "code",
   "execution_count": 35,
   "metadata": {},
   "outputs": [],
   "source": [
    "from tensorflow import keras\n",
    "import pandas as pd\n",
    "import numpy as np\n",
    "import seaborn as sns\n",
    "import matplotlib.pyplot as plt\n",
    "from keras.models import Sequential\n",
    "from keras.layers import Conv2D, MaxPool2D, Dropout, Dense, Flatten"
   ]
  },
  {
   "cell_type": "code",
   "execution_count": 36,
   "metadata": {},
   "outputs": [],
   "source": [
    "import string\n",
    "\n",
    "letters = dict(zip(list(range(0,26)),string.ascii_lowercase))"
   ]
  },
  {
   "cell_type": "code",
   "execution_count": 37,
   "metadata": {},
   "outputs": [],
   "source": [
    "ASL_train = pd.read_csv('sign_mnist_train\\sign_mnist_train.csv')\n",
    "ASL_test = pd.read_csv('sign_mnist_test\\sign_mnist_test.csv')"
   ]
  },
  {
   "cell_type": "code",
   "execution_count": 38,
   "metadata": {},
   "outputs": [],
   "source": [
    "X_train = ASL_train.drop('label',axis=1)\n",
    "y_train = ASL_train['label']\n",
    "X_test = ASL_test.drop('label',axis=1)\n",
    "y_test = ASL_test['label']"
   ]
  },
  {
   "cell_type": "code",
   "execution_count": 39,
   "metadata": {},
   "outputs": [
    {
     "data": {
      "text/plain": [
       "<AxesSubplot: ylabel='Count'>"
      ]
     },
     "execution_count": 39,
     "metadata": {},
     "output_type": "execute_result"
    },
    {
     "data": {
      "image/png": "[encoded data removed]",
      "text/plain": [
       "<Figure size 640x480 with 1 Axes>"
      ]
     },
     "metadata": {},
     "output_type": "display_data"
    }
   ],
   "source": [
    "y_train_letters = np.array([letters[x] for x in y_train])\n",
    "y_train_letters.sort()\n",
    "# np.array(y_train_letters)\n",
    "sns.histplot(data=y_train_letters)"
   ]
  },
  {
   "cell_type": "code",
   "execution_count": 40,
   "metadata": {},
   "outputs": [],
   "source": [
    "X_train = X_train.to_numpy()\n",
    "X_test = X_test.to_numpy()"
   ]
  },
  {
   "cell_type": "code",
   "execution_count": 41,
   "metadata": {},
   "outputs": [],
   "source": [
    "X_train = X_train.reshape(27455,28,28)\n",
    "X_test = X_test.reshape(7172,28,28)"
   ]
  },
  {
   "cell_type": "code",
   "execution_count": 42,
   "metadata": {},
   "outputs": [],
   "source": [
    "X_train = X_train/255\n",
    "X_test = X_test/255"
   ]
  },
  {
   "cell_type": "code",
   "execution_count": 43,
   "metadata": {},
   "outputs": [
    {
     "data": {
      "text/plain": [
       "<matplotlib.image.AxesImage at 0x1c18cdfd300>"
      ]
     },
     "execution_count": 43,
     "metadata": {},
     "output_type": "execute_result"
    },
    {
     "data": {
      "image/png": "[encoded data removed]",
      "text/plain": [
       "<Figure size 640x480 with 1 Axes>"
      ]
     },
     "metadata": {},
     "output_type": "display_data"
    }
   ],
   "source": [
    "plt.imshow(X_train[5],cmap='gray')"
   ]
  },
  {
   "cell_type": "code",
   "execution_count": 45,
   "metadata": {},
   "outputs": [],
   "source": [
    "from sklearn.linear_model import LogisticRegression\n",
    "from sklearn.model_selection import GridSearchCV\n",
    "\n",
    "# param_grid = {'C': [0.1,1, 10, 100, 1000], 'gamma': [1,0.1,0.01,0.001,0.0001], 'kernel': ['rbf']} \n",
    "# para=[{'max_iter':[100,200]}]\n",
    "\n",
    "logmodel = LogisticRegression(max_iter=200)\n",
    "# GS = GridSearchCV(estimator=LogisticRegression(), param_grid=para, refit=True, verbose=3)\n",
    "# logmodel.fit(X_train,y_train)"
   ]
  },
  {
   "cell_type": "code",
   "execution_count": 46,
   "metadata": {},
   "outputs": [
    {
     "ename": "NotFittedError",
     "evalue": "This LogisticRegression instance is not fitted yet. Call 'fit' with appropriate arguments before using this estimator.",
     "output_type": "error",
     "traceback": [
      "\u001b[1;31m---------------------------------------------------------------------------\u001b[0m",
      "\u001b[1;31mNotFittedError\u001b[0m                            Traceback (most recent call last)",
      "Cell \u001b[1;32mIn[46], line 1\u001b[0m\n\u001b[1;32m----> 1\u001b[0m log_preds \u001b[39m=\u001b[39m logmodel\u001b[39m.\u001b[39;49mpredict(X_test)\n",
      "File \u001b[1;32mc:\\Users\\Daniel\\anaconda3\\envs\\daniel\\lib\\site-packages\\sklearn\\linear_model\\_base.py:419\u001b[0m, in \u001b[0;36mLinearClassifierMixin.predict\u001b[1;34m(self, X)\u001b[0m\n\u001b[0;32m    405\u001b[0m \u001b[39m\u001b[39m\u001b[39m\"\"\"\u001b[39;00m\n\u001b[0;32m    406\u001b[0m \u001b[39mPredict class labels for samples in X.\u001b[39;00m\n\u001b[0;32m    407\u001b[0m \n\u001b[1;32m   (...)\u001b[0m\n\u001b[0;32m    416\u001b[0m \u001b[39m    Vector containing the class labels for each sample.\u001b[39;00m\n\u001b[0;32m    417\u001b[0m \u001b[39m\"\"\"\u001b[39;00m\n\u001b[0;32m    418\u001b[0m xp, _ \u001b[39m=\u001b[39m get_namespace(X)\n\u001b[1;32m--> 419\u001b[0m scores \u001b[39m=\u001b[39m \u001b[39mself\u001b[39;49m\u001b[39m.\u001b[39;49mdecision_function(X)\n\u001b[0;32m    420\u001b[0m \u001b[39mif\u001b[39;00m \u001b[39mlen\u001b[39m(scores\u001b[39m.\u001b[39mshape) \u001b[39m==\u001b[39m \u001b[39m1\u001b[39m:\n\u001b[0;32m    421\u001b[0m     indices \u001b[39m=\u001b[39m xp\u001b[39m.\u001b[39mastype(scores \u001b[39m>\u001b[39m \u001b[39m0\u001b[39m, \u001b[39mint\u001b[39m)\n",
      "File \u001b[1;32mc:\\Users\\Daniel\\anaconda3\\envs\\daniel\\lib\\site-packages\\sklearn\\linear_model\\_base.py:397\u001b[0m, in \u001b[0;36mLinearClassifierMixin.decision_function\u001b[1;34m(self, X)\u001b[0m\n\u001b[0;32m    378\u001b[0m \u001b[39mdef\u001b[39;00m \u001b[39mdecision_function\u001b[39m(\u001b[39mself\u001b[39m, X):\n\u001b[0;32m    379\u001b[0m \u001b[39m    \u001b[39m\u001b[39m\"\"\"\u001b[39;00m\n\u001b[0;32m    380\u001b[0m \u001b[39m    Predict confidence scores for samples.\u001b[39;00m\n\u001b[0;32m    381\u001b[0m \n\u001b[1;32m   (...)\u001b[0m\n\u001b[0;32m    395\u001b[0m \u001b[39m        this class would be predicted.\u001b[39;00m\n\u001b[0;32m    396\u001b[0m \u001b[39m    \"\"\"\u001b[39;00m\n\u001b[1;32m--> 397\u001b[0m     check_is_fitted(\u001b[39mself\u001b[39;49m)\n\u001b[0;32m    398\u001b[0m     xp, _ \u001b[39m=\u001b[39m get_namespace(X)\n\u001b[0;32m    400\u001b[0m     X \u001b[39m=\u001b[39m \u001b[39mself\u001b[39m\u001b[39m.\u001b[39m_validate_data(X, accept_sparse\u001b[39m=\u001b[39m\u001b[39m\"\u001b[39m\u001b[39mcsr\u001b[39m\u001b[39m\"\u001b[39m, reset\u001b[39m=\u001b[39m\u001b[39mFalse\u001b[39;00m)\n",
      "File \u001b[1;32mc:\\Users\\Daniel\\anaconda3\\envs\\daniel\\lib\\site-packages\\sklearn\\utils\\validation.py:1390\u001b[0m, in \u001b[0;36mcheck_is_fitted\u001b[1;34m(estimator, attributes, msg, all_or_any)\u001b[0m\n\u001b[0;32m   1385\u001b[0m     fitted \u001b[39m=\u001b[39m [\n\u001b[0;32m   1386\u001b[0m         v \u001b[39mfor\u001b[39;00m v \u001b[39min\u001b[39;00m \u001b[39mvars\u001b[39m(estimator) \u001b[39mif\u001b[39;00m v\u001b[39m.\u001b[39mendswith(\u001b[39m\"\u001b[39m\u001b[39m_\u001b[39m\u001b[39m\"\u001b[39m) \u001b[39mand\u001b[39;00m \u001b[39mnot\u001b[39;00m v\u001b[39m.\u001b[39mstartswith(\u001b[39m\"\u001b[39m\u001b[39m__\u001b[39m\u001b[39m\"\u001b[39m)\n\u001b[0;32m   1387\u001b[0m     ]\n\u001b[0;32m   1389\u001b[0m \u001b[39mif\u001b[39;00m \u001b[39mnot\u001b[39;00m fitted:\n\u001b[1;32m-> 1390\u001b[0m     \u001b[39mraise\u001b[39;00m NotFittedError(msg \u001b[39m%\u001b[39m {\u001b[39m\"\u001b[39m\u001b[39mname\u001b[39m\u001b[39m\"\u001b[39m: \u001b[39mtype\u001b[39m(estimator)\u001b[39m.\u001b[39m\u001b[39m__name__\u001b[39m})\n",
      "\u001b[1;31mNotFittedError\u001b[0m: This LogisticRegression instance is not fitted yet. Call 'fit' with appropriate arguments before using this estimator."
     ]
    }
   ],
   "source": [
    "log_preds = logmodel.predict(X_test)"
   ]
  },
  {
   "cell_type": "code",
   "execution_count": 47,
   "metadata": {},
   "outputs": [
    {
     "data": {
      "text/plain": [
       "array([[1., 0., 0., 0.],\n",
       "       [0., 1., 0., 0.],\n",
       "       [0., 0., 1., 0.],\n",
       "       [0., 0., 0., 1.]], dtype=float32)"
      ]
     },
     "execution_count": 47,
     "metadata": {},
     "output_type": "execute_result"
    }
   ],
   "source": [
    "keras.utils.to_categorical([0,1,2,3], num_classes=4)"
   ]
  },
  {
   "cell_type": "code",
   "execution_count": 48,
   "metadata": {},
   "outputs": [
    {
     "name": "stdout",
     "output_type": "stream",
     "text": [
      "[[330   0   0   0   0   0   0   0   0   0   0   0   0   1   0   0   0   0\n",
      "    0   0   0   0   0   0]\n",
      " [  0 393   0  18   0   0   0   0   0   0   0   0   0   0   0   0  20   0\n",
      "    0   1   0   0   0   0]\n",
      " [  0   0 282   0   0  20   0   0   0   0   4   2   0   0   0   0   0   0\n",
      "    0   0   2   0   0   0]\n",
      " [  0  14   0 153   1   0   0  18   0   0  11   0  18   0   0   0  21   0\n",
      "    0   0   0   0   9   0]\n",
      " [  0   0   0   0 439   0   0   0   0   0   0   0  19   0   0   0   0  40\n",
      "    0   0   0   0   0   0]\n",
      " [  0   0  20   0   0 223   3   0   1   0   0   0   0   0   0   0   0   0\n",
      "    0   0   0   0   0   0]\n",
      " [  0   0   0   0   0   0 263   0   0   0   0   9   0   3   0  29   0   1\n",
      "   40   0   0   0   3   0]\n",
      " [  0   0   0   0   0   0  42 308   0   0   0  21   0   0   0   0   0   0\n",
      "   37  21   0   0   7   0]\n",
      " [  0   0   0   0  12   0   0  22 152   6  21   0  14   0   0   0   3  18\n",
      "    0   0   0   0   0  40]\n",
      " [  0   8   0   2   0  63   0   0   0 103   0   4   0   0  19   0  40  21\n",
      "    0  41   0   2   0  28]\n",
      " [  0   0  12   0   0   0   0   0   0   0 156   0   0   0   0   0   0   0\n",
      "    0   0   0   0  41   0]\n",
      " [ 18   0   0   0  29   0   0   0   4   0   0 242  21   1   0  22   0  57\n",
      "    0   0   0   0   0   0]\n",
      " [ 43   0   0   0   0   0   0   0   0   0   0  58 125   0   0  16   0  23\n",
      "   21   0   0   0   5   0]\n",
      " [  0   0   5   0  21   0   1   0   0   0   0   0  20 175   0   1   0   0\n",
      "   23   0   0   0   0   0]\n",
      " [  0   0   0   0   0   0   0   0   0   0   0   0   0   0 337   4   0   0\n",
      "    6   0   0   0   0   0]\n",
      " [  4   0   0   0   0   6   0   0   0   0   0   9   0   0   0 137   0   8\n",
      "    0   0   0   0   0   0]\n",
      " [  0   0   0   0   0   0   0   0   0   0  21   0   0   0   0   0  62   0\n",
      "    0  61   0   0   0   0]\n",
      " [  0   0   0   0  27   0   0  17  42   0   0  57   4   0   0   3   0  75\n",
      "    0   0   0   0   0  21]\n",
      " [  0   0   3   0   0   0  19  62  33   0  19   0   0   0   1   0   0   0\n",
      "   69  20   0   1  21   0]\n",
      " [  0   0   0  28   0   0   0   0   0  49  29   0   0   0   0   0  25   0\n",
      "    0 135   0   0   0   0]\n",
      " [  0   0   0   1   0  20   0   1   0  27  21   0   0   0   0   1   4   0\n",
      "    2  37 136  81  15   0]\n",
      " [  0   0   0   0   0  20   0   0  21   0   0   0   0   0   0   0  20   0\n",
      "    0   0  21 124   0   0]\n",
      " [  0   0   6   0   0   0   0   0   0   0  20   0   0   0  20   0  32  21\n",
      "   15   8   0  34 111   0]\n",
      " [  0   0   0   0   0   0   0   0   3   0  50   0   0   0   0   0  30  39\n",
      "   21   0   0   0   0 189]]\n",
      "              precision    recall  f1-score   support\n",
      "\n",
      "           0       0.84      1.00      0.91       331\n",
      "           1       0.95      0.91      0.93       432\n",
      "           2       0.86      0.91      0.88       310\n",
      "           3       0.76      0.62      0.68       245\n",
      "           4       0.83      0.88      0.85       498\n",
      "           5       0.63      0.90      0.74       247\n",
      "           6       0.80      0.76      0.78       348\n",
      "           7       0.72      0.71      0.71       436\n",
      "           8       0.59      0.53      0.56       288\n",
      "          10       0.56      0.31      0.40       331\n",
      "          11       0.44      0.75      0.56       209\n",
      "          12       0.60      0.61      0.61       394\n",
      "          13       0.57      0.43      0.49       291\n",
      "          14       0.97      0.71      0.82       246\n",
      "          15       0.89      0.97      0.93       347\n",
      "          16       0.64      0.84      0.73       164\n",
      "          17       0.24      0.43      0.31       144\n",
      "          18       0.25      0.30      0.27       246\n",
      "          19       0.29      0.28      0.29       248\n",
      "          20       0.42      0.51      0.46       266\n",
      "          21       0.86      0.39      0.54       346\n",
      "          22       0.51      0.60      0.55       206\n",
      "          23       0.52      0.42      0.46       267\n",
      "          24       0.68      0.57      0.62       332\n",
      "\n",
      "    accuracy                           0.66      7172\n",
      "   macro avg       0.64      0.64      0.63      7172\n",
      "weighted avg       0.68      0.66      0.66      7172\n",
      "\n"
     ]
    }
   ],
   "source": [
    "from sklearn.metrics import classification_report, confusion_matrix\n",
    "print(confusion_matrix(y_test, log_preds))\n",
    "print(classification_report(y_test,log_preds))"
   ]
  },
  {
   "cell_type": "code",
   "execution_count": null,
   "metadata": {},
   "outputs": [],
   "source": []
  },
  {
   "cell_type": "code",
   "execution_count": 49,
   "metadata": {},
   "outputs": [
    {
     "name": "stdout",
     "output_type": "stream",
     "text": [
      "Epoch 1/6\n",
      "275/275 [==============================] - 20s 70ms/step - loss: 1.6296 - accuracy: 0.5116 - val_loss: 0.8353 - val_accuracy: 0.7352\n",
      "Epoch 2/6\n",
      "275/275 [==============================] - 18s 66ms/step - loss: 0.2978 - accuracy: 0.9099 - val_loss: 0.5301 - val_accuracy: 0.8455\n",
      "Epoch 3/6\n",
      "275/275 [==============================] - 19s 69ms/step - loss: 0.0629 - accuracy: 0.9878 - val_loss: 0.4232 - val_accuracy: 0.8963\n",
      "Epoch 4/6\n",
      "275/275 [==============================] - 19s 67ms/step - loss: 0.0133 - accuracy: 0.9996 - val_loss: 0.4630 - val_accuracy: 0.9066\n",
      "Epoch 5/6\n",
      "275/275 [==============================] - 19s 68ms/step - loss: 0.0047 - accuracy: 0.9999 - val_loss: 0.4885 - val_accuracy: 0.9004\n",
      "Epoch 6/6\n",
      "275/275 [==============================] - 20s 71ms/step - loss: 0.0025 - accuracy: 1.0000 - val_loss: 0.5251 - val_accuracy: 0.9063\n"
     ]
    },
    {
     "data": {
      "text/plain": [
       "<keras.callbacks.History at 0x1c18cdd5360>"
      ]
     },
     "execution_count": 49,
     "metadata": {},
     "output_type": "execute_result"
    }
   ],
   "source": [
    "model = Sequential()\n",
    "\n",
    "model.add(Conv2D(8, (3,3), activation='relu', input_shape=(28,28,1)))\n",
    "\n",
    "\n",
    "model.add(Conv2D(32, (3,3), activation='relu'))\n",
    "\n",
    "model.add(MaxPool2D(2,2))\n",
    "\n",
    "model.add(Conv2D(32, (3,3), activation='relu'))\n",
    "\n",
    "model.add(MaxPool2D(2,2))\n",
    "\n",
    "\n",
    "\n",
    "\n",
    "\n",
    "model.add(Flatten())\n",
    "model.add(Dense(50,activation='relu'))\n",
    "          \n",
    "model.add(Dense(26,activation='softmax'))\n",
    "\n",
    "model.compile(loss='sparse_categorical_crossentropy', optimizer='adam', metrics=['accuracy'])\n",
    "\n",
    "model.fit(X_train,y_train, epochs=6, batch_size=100, validation_data=(X_test,y_test))"
   ]
  },
  {
   "cell_type": "code",
   "execution_count": 50,
   "metadata": {},
   "outputs": [
    {
     "name": "stdout",
     "output_type": "stream",
     "text": [
      "225/225 [==============================] - 1s 5ms/step - loss: 0.5251 - accuracy: 0.9063\n"
     ]
    },
    {
     "data": {
      "text/plain": [
       "[0.5250513553619385, 0.906302273273468]"
      ]
     },
     "execution_count": 50,
     "metadata": {},
     "output_type": "execute_result"
    }
   ],
   "source": [
    "model.evaluate(X_test,y_test)"
   ]
  },
  {
   "cell_type": "code",
   "execution_count": 53,
   "metadata": {},
   "outputs": [],
   "source": [
    "model.save('saved_models/model.hdf5')"
   ]
  },
  {
   "cell_type": "code",
   "execution_count": 55,
   "metadata": {},
   "outputs": [],
   "source": [
    "from sklearn.metrics import accuracy_score\n",
    "from keras.models import load_model"
   ]
  },
  {
   "cell_type": "code",
   "execution_count": 56,
   "metadata": {},
   "outputs": [],
   "source": [
    "mod = load_model('saved_models/model.hdf5')"
   ]
  },
  {
   "cell_type": "code",
   "execution_count": 57,
   "metadata": {},
   "outputs": [
    {
     "name": "stdout",
     "output_type": "stream",
     "text": [
      "225/225 [==============================] - 1s 5ms/step\n"
     ]
    }
   ],
   "source": [
    "a = mod.predict(X_test)"
   ]
  },
  {
   "cell_type": "code",
   "execution_count": 59,
   "metadata": {},
   "outputs": [
    {
     "data": {
      "text/plain": [
       "0.9063022866703848"
      ]
     },
     "execution_count": 59,
     "metadata": {},
     "output_type": "execute_result"
    }
   ],
   "source": [
    "preds = [np.argmax(a[x]) for x in range (0,len(a))]\n",
    "result_letters = [np.argmax(a[x]) for x in range (0,len(a))]\n",
    "result_letters = [letters[x] for x in result_letters]\n",
    "\n",
    "accuracy_score(y_test,preds)\n",
    "# print(letters[result_letters])\n",
    "# print(f'Model: {[np.argmax(a[x]) for x in range (0,10)]}')\n",
    "# print(f'''True values:\n",
    "# {y_test[0:10]}''')"
   ]
  }
 ],
 "metadata": {
  "kernelspec": {
   "display_name": "daniel",
   "language": "python",
   "name": "python3"
  },
  "language_info": {
   "codemirror_mode": {
    "name": "ipython",
    "version": 3
   },
   "file_extension": ".py",
   "mimetype": "text/x-python",
   "name": "python",
   "nbconvert_exporter": "python",
   "pygments_lexer": "ipython3",
   "version": "3.10.4"
  },
  "orig_nbformat": 4,
  "vscode": {
   "interpreter": {
    "hash": "7b5f63a414db31d3546e745236885663c76fdfc19196e7c0e835b283e75ee4ee"
   }
  }
 },
 "nbformat": 4,
 "nbformat_minor": 2
}
