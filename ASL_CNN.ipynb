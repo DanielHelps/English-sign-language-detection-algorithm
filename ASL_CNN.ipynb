{
 "cells": [
  {
   "cell_type": "code",
   "execution_count": 43,
   "metadata": {},
   "outputs": [],
   "source": [
    "from tensorflow import keras\n",
    "import pandas as pd\n",
    "import numpy as np\n",
    "import seaborn as sns\n",
    "import matplotlib.pyplot as plt\n",
    "from keras.models import Sequential\n",
    "from keras.layers import Conv2D, MaxPool2D, Dropout, Dense, Flatten\n",
    "from PIL import Image"
   ]
  },
  {
   "cell_type": "code",
   "execution_count": 28,
   "metadata": {},
   "outputs": [],
   "source": [
    "import string\n",
    "\n",
    "letters = dict(zip(list(range(0,26)),string.ascii_lowercase))"
   ]
  },
  {
   "cell_type": "code",
   "execution_count": 29,
   "metadata": {},
   "outputs": [],
   "source": [
    "ASL_train = pd.read_csv('sign_mnist_train\\sign_mnist_train.csv')\n",
    "ASL_test = pd.read_csv('sign_mnist_test\\sign_mnist_test.csv')"
   ]
  },
  {
   "cell_type": "code",
   "execution_count": 30,
   "metadata": {},
   "outputs": [],
   "source": [
    "X_train = ASL_train.drop('label',axis=1)\n",
    "y_train = ASL_train['label']\n",
    "X_test = ASL_test.drop('label',axis=1)\n",
    "y_test = ASL_test['label']"
   ]
  },
  {
   "cell_type": "code",
   "execution_count": 31,
   "metadata": {},
   "outputs": [
    {
     "data": {
      "text/plain": [
       "<AxesSubplot: ylabel='Count'>"
      ]
     },
     "execution_count": 31,
     "metadata": {},
     "output_type": "execute_result"
    },
    {
     "data": {
      "image/png": "[encoded data removed]",
      "text/plain": [
       "<Figure size 640x480 with 1 Axes>"
      ]
     },
     "metadata": {},
     "output_type": "display_data"
    }
   ],
   "source": [
    "[letters[x] for x in y_train]\n",
    "y_train_letters = [letters[x] for x in y_train]\n",
    "y_train_letters.sort()\n",
    "# np.array(y_train_letters)\n",
    "sns.histplot(data=y_train_letters)"
   ]
  },
  {
   "cell_type": "code",
   "execution_count": 32,
   "metadata": {},
   "outputs": [],
   "source": [
    "# y_train = keras.utils.to_categorical(y_train)\n",
    "# y_test = keras.utils.to_categorical(y_test)"
   ]
  },
  {
   "cell_type": "code",
   "execution_count": 33,
   "metadata": {},
   "outputs": [],
   "source": [
    "X_train = X_train.to_numpy()\n",
    "X_test = X_test.to_numpy()"
   ]
  },
  {
   "cell_type": "code",
   "execution_count": 34,
   "metadata": {},
   "outputs": [],
   "source": [
    "X_train = X_train.reshape(27455,28,28)\n",
    "X_test = X_test.reshape(7172,28,28)"
   ]
  },
  {
   "cell_type": "code",
   "execution_count": 35,
   "metadata": {},
   "outputs": [],
   "source": [
    "X_train = X_train/255\n",
    "X_test = X_test/255"
   ]
  },
  {
   "cell_type": "code",
   "execution_count": 105,
   "metadata": {},
   "outputs": [],
   "source": [
    "hh = X_train[5]"
   ]
  },
  {
   "cell_type": "code",
   "execution_count": 36,
   "metadata": {},
   "outputs": [
    {
     "data": {
      "text/plain": [
       "<matplotlib.image.AxesImage at 0x10eccf1b8b0>"
      ]
     },
     "execution_count": 36,
     "metadata": {},
     "output_type": "execute_result"
    },
    {
     "data": {
      "image/png": "[encoded data removed]",
      "text/plain": [
       "<Figure size 640x480 with 1 Axes>"
      ]
     },
     "metadata": {},
     "output_type": "display_data"
    }
   ],
   "source": [
    "plt.imshow(X_train[5],cmap='gray')"
   ]
  },
  {
   "cell_type": "code",
   "execution_count": 67,
   "metadata": {},
   "outputs": [],
   "source": [
    "a = X_train[0]*255"
   ]
  },
  {
   "cell_type": "code",
   "execution_count": 37,
   "metadata": {},
   "outputs": [],
   "source": [
    "from sklearn.linear_model import LogisticRegression\n",
    "from sklearn.model_selection import GridSearchCV\n",
    "\n",
    "# param_grid = {'C': [0.1,1, 10, 100, 1000], 'gamma': [1,0.1,0.01,0.001,0.0001], 'kernel': ['rbf']} \n",
    "# para=[{'max_iter':[100,200]}]\n",
    "\n",
    "logmodel = LogisticRegression(max_iter=200)\n",
    "# GS = GridSearchCV(estimator=LogisticRegression(), param_grid=para, refit=True, verbose=3)\n",
    "# logmodel.fit(X_train,y_train)"
   ]
  },
  {
   "cell_type": "code",
   "execution_count": 38,
   "metadata": {},
   "outputs": [],
   "source": [
    "# log_preds = logmodel.predict(X_test)"
   ]
  },
  {
   "cell_type": "code",
   "execution_count": 39,
   "metadata": {},
   "outputs": [],
   "source": [
    "# keras.utils.to_categorical([0,1,2,3], num_classes=4)"
   ]
  },
  {
   "cell_type": "code",
   "execution_count": 40,
   "metadata": {},
   "outputs": [
    {
     "ename": "NameError",
     "evalue": "name 'log_preds' is not defined",
     "output_type": "error",
     "traceback": [
      "\u001b[1;31m---------------------------------------------------------------------------\u001b[0m",
      "\u001b[1;31mNameError\u001b[0m                                 Traceback (most recent call last)",
      "Cell \u001b[1;32mIn[40], line 2\u001b[0m\n\u001b[0;32m      1\u001b[0m \u001b[39mfrom\u001b[39;00m \u001b[39msklearn\u001b[39;00m\u001b[39m.\u001b[39;00m\u001b[39mmetrics\u001b[39;00m \u001b[39mimport\u001b[39;00m classification_report, confusion_matrix\n\u001b[1;32m----> 2\u001b[0m \u001b[39mprint\u001b[39m(confusion_matrix(y_test, log_preds))\n\u001b[0;32m      3\u001b[0m \u001b[39mprint\u001b[39m(classification_report(y_test,log_preds))\n",
      "\u001b[1;31mNameError\u001b[0m: name 'log_preds' is not defined"
     ]
    }
   ],
   "source": [
    "# from sklearn.metrics import classification_report, confusion_matrix\n",
    "# print(confusion_matrix(y_test, log_preds))\n",
    "# print(classification_report(y_test,log_preds))"
   ]
  },
  {
   "cell_type": "code",
   "execution_count": null,
   "metadata": {},
   "outputs": [],
   "source": []
  },
  {
   "cell_type": "code",
   "execution_count": 41,
   "metadata": {},
   "outputs": [
    {
     "name": "stdout",
     "output_type": "stream",
     "text": [
      "Epoch 1/6\n",
      "275/275 [==============================] - 26s 89ms/step - loss: 1.9727 - accuracy: 0.3828 - val_loss: 1.0781 - val_accuracy: 0.7266\n",
      "Epoch 2/6\n",
      "275/275 [==============================] - 28s 102ms/step - loss: 0.7559 - accuracy: 0.7405 - val_loss: 0.5746 - val_accuracy: 0.8413\n",
      "Epoch 3/6\n",
      "275/275 [==============================] - 28s 101ms/step - loss: 0.4446 - accuracy: 0.8455 - val_loss: 0.4023 - val_accuracy: 0.8956\n",
      "Epoch 4/6\n",
      "275/275 [==============================] - 23s 85ms/step - loss: 0.3135 - accuracy: 0.8904 - val_loss: 0.3435 - val_accuracy: 0.9127\n",
      "Epoch 5/6\n",
      "275/275 [==============================] - 29s 104ms/step - loss: 0.2168 - accuracy: 0.9240 - val_loss: 0.2669 - val_accuracy: 0.9313\n",
      "Epoch 6/6\n",
      "275/275 [==============================] - 32s 118ms/step - loss: 0.1837 - accuracy: 0.9374 - val_loss: 0.2192 - val_accuracy: 0.9342\n"
     ]
    },
    {
     "data": {
      "text/plain": [
       "<keras.callbacks.History at 0x10ecd07c850>"
      ]
     },
     "execution_count": 41,
     "metadata": {},
     "output_type": "execute_result"
    }
   ],
   "source": [
    "model = Sequential()\n",
    "\n",
    "model.add(Conv2D(8, (3,3), activation='relu', input_shape=(28,28,1)))\n",
    "\n",
    "\n",
    "model.add(Conv2D(32, (3,3), activation='relu'))\n",
    "model.add(Dropout(0.2))\n",
    "model.add(MaxPool2D(2,2))\n",
    "\n",
    "\n",
    "\n",
    "model.add(Conv2D(32, (3,3), activation='relu'))\n",
    "model.add(Dropout(0.3))\n",
    "model.add(MaxPool2D(2,2))\n",
    "\n",
    "\n",
    "\n",
    "\n",
    "\n",
    "model.add(Flatten())\n",
    "model.add(Dense(50,activation='relu'))\n",
    "model.add(Dropout(0.2))          \n",
    "model.add(Dense(26,activation='softmax'))\n",
    "\n",
    "model.compile(loss='sparse_categorical_crossentropy', optimizer='adam', metrics=['accuracy'])\n",
    "\n",
    "model.fit(X_train,y_train, epochs=6, batch_size=100, validation_data=(X_test,y_test))"
   ]
  },
  {
   "cell_type": "code",
   "execution_count": 102,
   "metadata": {},
   "outputs": [
    {
     "name": "stdout",
     "output_type": "stream",
     "text": [
      "225/225 [==============================] - 1s 5ms/step - loss: 0.2192 - accuracy: 0.9342\n"
     ]
    },
    {
     "data": {
      "text/plain": [
       "[0.21916040778160095, 0.9341884851455688]"
      ]
     },
     "execution_count": 102,
     "metadata": {},
     "output_type": "execute_result"
    }
   ],
   "source": [
    "model.evaluate(X_test,y_test)"
   ]
  },
  {
   "cell_type": "code",
   "execution_count": 70,
   "metadata": {},
   "outputs": [],
   "source": [
    "model.save('saved_models/model.hdf5')"
   ]
  },
  {
   "cell_type": "code",
   "execution_count": 72,
   "metadata": {},
   "outputs": [],
   "source": [
    "from sklearn.metrics import accuracy_score\n",
    "from keras.models import load_model"
   ]
  },
  {
   "cell_type": "code",
   "execution_count": 73,
   "metadata": {},
   "outputs": [],
   "source": [
    "mod = load_model('saved_models/model.hdf5')"
   ]
  },
  {
   "cell_type": "code",
   "execution_count": 82,
   "metadata": {},
   "outputs": [
    {
     "name": "stdout",
     "output_type": "stream",
     "text": [
      "1/1 [==============================] - 0s 24ms/step\n"
     ]
    },
    {
     "data": {
      "text/plain": [
       "array([[1.10697576e-10, 5.20183470e-08, 4.73053604e-02, 8.12267899e-07,\n",
       "        3.16531938e-08, 1.11853203e-03, 9.23215032e-01, 2.38991133e-03,\n",
       "        1.26314370e-09, 1.93733390e-10, 3.74329971e-07, 1.41896855e-03,\n",
       "        1.01737763e-09, 8.75432022e-07, 5.95197598e-05, 1.28028187e-05,\n",
       "        2.57825413e-05, 4.87117313e-06, 2.37965159e-09, 4.37313458e-04,\n",
       "        1.13609637e-07, 2.56086764e-07, 4.91241448e-09, 2.40083206e-02,\n",
       "        8.88129023e-07, 1.10095115e-07]], dtype=float32)"
      ]
     },
     "execution_count": 82,
     "metadata": {},
     "output_type": "execute_result"
    }
   ],
   "source": [
    "X_test[0].reshape((1,28,28)).shape\n",
    "mod.predict(X_test[0].reshape((1,28,28)))"
   ]
  },
  {
   "cell_type": "code",
   "execution_count": 118,
   "metadata": {},
   "outputs": [
    {
     "name": "stdout",
     "output_type": "stream",
     "text": [
      "1/1 [==============================] - 0s 43ms/step\n",
      "e\n"
     ]
    },
    {
     "data": {
      "image/png": "[encoded data removed]",
      "text/plain": [
       "<Figure size 640x480 with 1 Axes>"
      ]
     },
     "metadata": {},
     "output_type": "display_data"
    }
   ],
   "source": [
    "image = Image.open('Images\\\\20230220_084523.jpg')\n",
    "image = image.resize((28,28))\n",
    "image = image.convert('L')\n",
    "image = image.rotate(-90)\n",
    "image.save('im_thumb.jpg')\n",
    "pixels = np.array(image.getdata()).reshape((1,28,28))/255\n",
    "plt.imshow(pixels.reshape((28,28)),cmap='gray')\n",
    "# print(image.size)\n",
    "# print(mod.predict(pixels))\n",
    "my_images_preds = model.predict(pixels)\n",
    "my_images_preds = np.argmax(my_images_preds)\n",
    "print(letters[my_images_preds])"
   ]
  },
  {
   "cell_type": "code",
   "execution_count": 74,
   "metadata": {},
   "outputs": [
    {
     "name": "stdout",
     "output_type": "stream",
     "text": [
      "225/225 [==============================] - 2s 7ms/step\n"
     ]
    }
   ],
   "source": [
    "a = mod.predict(X_test)"
   ]
  },
  {
   "cell_type": "code",
   "execution_count": null,
   "metadata": {},
   "outputs": [
    {
     "data": {
      "text/plain": [
       "0.9063022866703848"
      ]
     },
     "execution_count": 59,
     "metadata": {},
     "output_type": "execute_result"
    }
   ],
   "source": [
    "preds = [np.argmax(a[x]) for x in range (0,len(a))]\n",
    "result_letters = [np.argmax(a[x]) for x in range (0,len(a))]\n",
    "result_letters = [letters[x] for x in result_letters]\n",
    "\n",
    "accuracy_score(y_test,preds)\n",
    "# print(letters[result_letters])\n",
    "# print(f'Model: {[np.argmax(a[x]) for x in range (0,10)]}')\n",
    "# print(f'''True values:\n",
    "# {y_test[0:10]}''')"
   ]
  }
 ],
 "metadata": {
  "kernelspec": {
   "display_name": "daniel",
   "language": "python",
   "name": "python3"
  },
  "language_info": {
   "codemirror_mode": {
    "name": "ipython",
    "version": 3
   },
   "file_extension": ".py",
   "mimetype": "text/x-python",
   "name": "python",
   "nbconvert_exporter": "python",
   "pygments_lexer": "ipython3",
   "version": "3.10.4"
  },
  "orig_nbformat": 4,
  "vscode": {
   "interpreter": {
    "hash": "7b5f63a414db31d3546e745236885663c76fdfc19196e7c0e835b283e75ee4ee"
   }
  }
 },
 "nbformat": 4,
 "nbformat_minor": 2
}
