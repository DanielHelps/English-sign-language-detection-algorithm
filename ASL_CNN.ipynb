{
 "cells": [
  {
   "cell_type": "code",
   "execution_count": 29,
   "metadata": {},
   "outputs": [],
   "source": [
    "from tensorflow import keras\n",
    "import pandas as pd\n",
    "import numpy as np\n",
    "import matplotlib.pyplot as plt\n",
    "from keras.models import Sequential\n",
    "from keras.layers import Conv2D, MaxPool2D, Dropout, Dense, Flatten"
   ]
  },
  {
   "cell_type": "code",
   "execution_count": 30,
   "metadata": {},
   "outputs": [],
   "source": [
    "ASL_train = pd.read_csv('sign_mnist_train\\sign_mnist_train.csv')\n",
    "ASL_test = pd.read_csv('sign_mnist_test\\sign_mnist_test.csv')"
   ]
  },
  {
   "cell_type": "code",
   "execution_count": 31,
   "metadata": {},
   "outputs": [],
   "source": [
    "X_train = ASL_train.drop('label',axis=1)\n",
    "y_train = ASL_train['label']\n",
    "X_test = ASL_test.drop('label',axis=1)\n",
    "y_test = ASL_test['label']"
   ]
  },
  {
   "cell_type": "code",
   "execution_count": 32,
   "metadata": {},
   "outputs": [],
   "source": [
    "X_train = X_train.to_numpy()\n",
    "X_test = X_test.to_numpy()"
   ]
  },
  {
   "cell_type": "code",
   "execution_count": 33,
   "metadata": {},
   "outputs": [],
   "source": [
    "X_train = X_train.reshape(27455,28,28)\n",
    "X_test = X_test.reshape(7172,28,28)"
   ]
  },
  {
   "cell_type": "code",
   "execution_count": 55,
   "metadata": {},
   "outputs": [],
   "source": [
    "X_train = X_train/255\n",
    "X_test = X_test/255"
   ]
  },
  {
   "cell_type": "code",
   "execution_count": 86,
   "metadata": {},
   "outputs": [
    {
     "data": {
      "text/plain": [
       "<matplotlib.image.AxesImage at 0x1998e643580>"
      ]
     },
     "execution_count": 86,
     "metadata": {},
     "output_type": "execute_result"
    },
    {
     "data": {
      "image/png": "[encoded data removed]",
      "text/plain": [
       "<Figure size 640x480 with 1 Axes>"
      ]
     },
     "metadata": {},
     "output_type": "display_data"
    }
   ],
   "source": [
    "plt.imshow(X_train[5],cmap='gray')"
   ]
  },
  {
   "cell_type": "code",
   "execution_count": 83,
   "metadata": {},
   "outputs": [
    {
     "data": {
      "text/plain": [
       "{'a': 0,\n",
       " 'b': 1,\n",
       " 'c': 2,\n",
       " 'd': 3,\n",
       " 'e': 4,\n",
       " 'f': 5,\n",
       " 'g': 6,\n",
       " 'h': 7,\n",
       " 'i': 8,\n",
       " 'j': 9,\n",
       " 'k': 10,\n",
       " 'l': 11,\n",
       " 'm': 12,\n",
       " 'n': 13,\n",
       " 'o': 14,\n",
       " 'p': 15,\n",
       " 'q': 16,\n",
       " 'r': 17,\n",
       " 's': 18,\n",
       " 't': 19,\n",
       " 'u': 20,\n",
       " 'v': 21,\n",
       " 'w': 22,\n",
       " 'x': 23,\n",
       " 'y': 24,\n",
       " 'z': 25}"
      ]
     },
     "execution_count": 83,
     "metadata": {},
     "output_type": "execute_result"
    }
   ],
   "source": [
    "import string\n",
    "\n",
    "d = dict(zip(string.ascii_lowercase, list(range(0,26))))"
   ]
  },
  {
   "cell_type": "code",
   "execution_count": 97,
   "metadata": {},
   "outputs": [
    {
     "name": "stdout",
     "output_type": "stream",
     "text": [
      "Epoch 1/6\n",
      "248/248 [==============================] - 16s 58ms/step - loss: 1.7558 - accuracy: 0.4738 - val_loss: 0.6796 - val_accuracy: 0.7972\n",
      "Epoch 2/6\n",
      "248/248 [==============================] - 17s 69ms/step - loss: 0.3811 - accuracy: 0.8889 - val_loss: 0.1933 - val_accuracy: 0.9545\n",
      "Epoch 3/6\n",
      "248/248 [==============================] - 16s 65ms/step - loss: 0.0977 - accuracy: 0.9792 - val_loss: 0.0380 - val_accuracy: 0.9960\n",
      "Epoch 4/6\n",
      "248/248 [==============================] - 15s 61ms/step - loss: 0.0268 - accuracy: 0.9971 - val_loss: 0.0124 - val_accuracy: 1.0000\n",
      "Epoch 5/6\n",
      "248/248 [==============================] - 18s 73ms/step - loss: 0.0099 - accuracy: 0.9995 - val_loss: 0.0091 - val_accuracy: 0.9993\n",
      "Epoch 6/6\n",
      "248/248 [==============================] - 18s 74ms/step - loss: 0.0043 - accuracy: 1.0000 - val_loss: 0.0036 - val_accuracy: 1.0000\n"
     ]
    },
    {
     "data": {
      "text/plain": [
       "<keras.callbacks.History at 0x1998ca4b7f0>"
      ]
     },
     "execution_count": 97,
     "metadata": {},
     "output_type": "execute_result"
    }
   ],
   "source": [
    "model = Sequential()\n",
    "\n",
    "model.add(Conv2D(8, (3,3), activation='relu', input_shape=(28,28,1)))\n",
    "\n",
    "\n",
    "model.add(Conv2D(32, (3,3), activation='relu'))\n",
    "\n",
    "model.add(MaxPool2D(2,2))\n",
    "\n",
    "model.add(Conv2D(32, (3,3), activation='relu'))\n",
    "\n",
    "model.add(MaxPool2D(2,2))\n",
    "\n",
    "\n",
    "\n",
    "\n",
    "\n",
    "model.add(Flatten())\n",
    "model.add(Dense(50,activation='relu'))\n",
    "          \n",
    "model.add(Dense(26,activation='softmax'))\n",
    "\n",
    "model.compile(loss='sparse_categorical_crossentropy', optimizer='adam', metrics=['accuracy'])\n",
    "\n",
    "model.fit(X_train,y_train, epochs=6, batch_size=100, validation_split=0.1)"
   ]
  },
  {
   "cell_type": "code",
   "execution_count": 98,
   "metadata": {},
   "outputs": [
    {
     "name": "stdout",
     "output_type": "stream",
     "text": [
      "225/225 [==============================] - 1s 5ms/step - loss: 0.6463 - accuracy: 0.8685\n"
     ]
    },
    {
     "data": {
      "text/plain": [
       "[0.6462534666061401, 0.8685164451599121]"
      ]
     },
     "execution_count": 98,
     "metadata": {},
     "output_type": "execute_result"
    }
   ],
   "source": [
    "model.evaluate(X_test,y_test)"
   ]
  },
  {
   "cell_type": "code",
   "execution_count": 58,
   "metadata": {},
   "outputs": [
    {
     "name": "stdout",
     "output_type": "stream",
     "text": [
      "225/225 [==============================] - 2s 8ms/step\n"
     ]
    }
   ],
   "source": [
    "a = model.predict(X_test)"
   ]
  },
  {
   "cell_type": "code",
   "execution_count": 59,
   "metadata": {},
   "outputs": [
    {
     "name": "stdout",
     "output_type": "stream",
     "text": [
      "Model: [6, 5, 10, 0, 3, 21, 10, 14, 3, 7]\n",
      "True values:\n",
      "0     6\n",
      "1     5\n",
      "2    10\n",
      "3     0\n",
      "4     3\n",
      "5    21\n",
      "6    10\n",
      "7    14\n",
      "8     3\n",
      "9     7\n",
      "Name: label, dtype: int64\n"
     ]
    }
   ],
   "source": [
    "\n",
    "print(f'Model: {[np.argmax(a[x]) for x in range (0,10)]}')\n",
    "print(f'''True values:\n",
    "{y_test[0:10]}''')"
   ]
  }
 ],
 "metadata": {
  "kernelspec": {
   "display_name": "daniel",
   "language": "python",
   "name": "python3"
  },
  "language_info": {
   "codemirror_mode": {
    "name": "ipython",
    "version": 3
   },
   "file_extension": ".py",
   "mimetype": "text/x-python",
   "name": "python",
   "nbconvert_exporter": "python",
   "pygments_lexer": "ipython3",
   "version": "3.10.4"
  },
  "orig_nbformat": 4,
  "vscode": {
   "interpreter": {
    "hash": "7b5f63a414db31d3546e745236885663c76fdfc19196e7c0e835b283e75ee4ee"
   }
  }
 },
 "nbformat": 4,
 "nbformat_minor": 2
}
